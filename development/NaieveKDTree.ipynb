{
 "cells": [
  {
   "cell_type": "code",
   "execution_count": 42,
   "metadata": {},
   "outputs": [],
   "source": [
    "using Random\n",
    "using Statistics\n",
    "using AbstractTrees"
   ]
  },
  {
   "cell_type": "markdown",
   "metadata": {},
   "source": [
    "### A simple implementation of a KDTree"
   ]
  },
  {
   "cell_type": "code",
   "execution_count": 1,
   "metadata": {},
   "outputs": [],
   "source": [
    "abstract type Rule end\n",
    "\n",
    "mutable struct KDRule <: Rule\n",
    "    dim::Int\n",
    "    max_in_left::Float64\n",
    "end\n",
    "\n",
    "function KDRule(X::Array{T, 2}, dim::Int)\n",
    "    dimvals = X[dim, :]\n",
    "    max_in_left = median(dimvals)\n",
    "    KDRule(dim, max_in_left)\n",
    "end\n",
    "    \n",
    "inleft(r::KDRule, x) = x[r.dim] <= r.max_in_left\n",
    "\n",
    "mutable struct Node{T}\n",
    "    data::Array{T, 2}\n",
    "    dim::Int\n",
    "    npoints::Int\n",
    "    indexes::Array{Int, 1}\n",
    "    rule::Rule\n",
    "    right::Node{T}\n",
    "    left::Node{T}\n",
    "    Node() where {T} = new{T}()\n",
    "    function Node(X::Array{T, 2}) where {T}\n",
    "        d, n = size(X)\n",
    "        new{T}(X, d, n, 1:n)\n",
    "    end\n",
    "    function Node(X::Array{T, 2}, idxs::Array{Int, 1}) where {T, F}\n",
    "        return new{T}(X, size(X)[1], length(idxs), idxs)\n",
    "    end\n",
    "end"
   ]
  },
  {
   "cell_type": "code",
   "execution_count": 2,
   "metadata": {},
   "outputs": [
    {
     "data": {
      "text/plain": [
       "Node{Float64}([0.6841242995036696 0.6891073053228145 … 0.38401684979955153 0.24276299792194989; 0.15409183843897067 0.6978541245945087 … 0.6792014417177474 0.6000248594757245; … ; 0.14100081712940749 0.7506436554172047 … 0.7542783367268702 0.010295316288215783; 0.8617297505507733 0.45741212222007444 … 0.6812273582171562 0.07050116104119852], 10, 100, [1, 2, 3, 4, 5, 6, 7, 8, 9, 10  …  91, 92, 93, 94, 95, 96, 97, 98, 99, 100], #undef, #undef, #undef)"
      ]
     },
     "execution_count": 2,
     "metadata": {},
     "output_type": "execute_result"
    }
   ],
   "source": [
    "X = rand(10, 100)\n",
    "Node(X)"
   ]
  },
  {
   "cell_type": "code",
   "execution_count": 29,
   "metadata": {},
   "outputs": [
    {
     "data": {
      "text/plain": [
       "recursive_kd_build (generic function with 1 method)"
      ]
     },
     "execution_count": 29,
     "metadata": {},
     "output_type": "execute_result"
    }
   ],
   "source": [
    "function recursive_kd_build(node::Node{T}, n0::Int, d::Int) where T\n",
    "    \"\"\"\n",
    "    recursively builds kd tree\n",
    "    \n",
    "    input:\n",
    "        node (Node) : the node we are working with\n",
    "        n0 (int)    : random splitting location\n",
    "        d (ind)     : dimension ? gosh idk what d is\n",
    "    \"\"\"\n",
    "    # check if node points is less than n0\n",
    "    if node.npoints <= n0\n",
    "        # if they are then return the node\n",
    "        return node\n",
    "    end\n",
    "    # Incement current dimension\n",
    "    d += 1\n",
    "    \n",
    "    # check if d has inremented beyond node dim plus one\n",
    "    if d == (node.dim + 1) \n",
    "        # if so then set d back to 1\n",
    "        d = 1 \n",
    "    end\n",
    "    # Divide indexes\n",
    "    n = length(node.indexes)\n",
    "    dimvals = reshape(node.data[d, node.indexes], :)\n",
    "    sortidx = sortperm(dimvals)\n",
    "    mi = isodd(n) ? n ÷ 2 + 1 : n ÷ 2\n",
    "    median = isodd(n) ? dimvals[mi] : (dimvals[mi] + dimvals[mi]) / 2 \n",
    "    lidxs = node.indexes[sortidx][1:mi]\n",
    "    ridxs = node.indexes[sortidx][mi+1:end]\n",
    "    node.rule = KDRule(d, median)\n",
    "    node.left = recursive_kd_build(Node(node.data, lidxs), n0, d)\n",
    "    node.right = recursive_kd_build(Node(node.data, ridxs), n0, d)\n",
    "    return node\n",
    "end\n",
    "    "
   ]
  },
  {
   "cell_type": "code",
   "execution_count": 55,
   "metadata": {},
   "outputs": [
    {
     "name": "stdout",
     "output_type": "stream",
     "text": [
      "  0.090769 seconds (2 allocations: 76.294 MiB, 34.17% gc time)\n"
     ]
    },
    {
     "data": {
      "text/plain": [
       "Node{Float64}([0.6531569706754898 0.14438346034148197 … 0.8806061005199359 0.7991063483967205; 0.6864117364790194 0.4814068685489876 … 0.2705885405547266 0.3461310700659086; … ; 0.5193534354443301 0.2039213556017614 … 0.348128116243144 0.8161948890528856; 0.8250022699312176 0.357104671392134 … 0.17114950825420516 0.16732525747310967], 10, 1000000, [1, 2, 3, 4, 5, 6, 7, 8, 9, 10  …  999991, 999992, 999993, 999994, 999995, 999996, 999997, 999998, 999999, 1000000], #undef, #undef, #undef)"
      ]
     },
     "execution_count": 55,
     "metadata": {},
     "output_type": "execute_result"
    }
   ],
   "source": [
    "@time X = rand(10, 1000000);\n",
    "root = Node(X)"
   ]
  },
  {
   "cell_type": "code",
   "execution_count": 56,
   "metadata": {},
   "outputs": [
    {
     "name": "stdout",
     "output_type": "stream",
     "text": [
      "  1.723220 seconds (1.31 M allocations: 737.966 MiB, 3.67% gc time)\n"
     ]
    }
   ],
   "source": [
    "@time recursive_kd_build(root, 10, 1);"
   ]
  },
  {
   "cell_type": "code",
   "execution_count": 45,
   "metadata": {},
   "outputs": [],
   "source": [
    "using NearestNeighbors"
   ]
  },
  {
   "cell_type": "code",
   "execution_count": 53,
   "metadata": {},
   "outputs": [
    {
     "name": "stdout",
     "output_type": "stream",
     "text": [
      "  0.888125 seconds (15.58 k allocations: 174.829 MiB)\n"
     ]
    },
    {
     "data": {
      "text/plain": [
       "KDTree{StaticArrays.SArray{Tuple{10},Float64,1,10},Euclidean,Float64}\n",
       "  Number of points: 1000000\n",
       "  Dimensions: 10\n",
       "  Metric: Euclidean(0.0)\n",
       "  Reordered: true"
      ]
     },
     "execution_count": 53,
     "metadata": {},
     "output_type": "execute_result"
    }
   ],
   "source": [
    "@time tree = KDTree(X, leafsize=5)"
   ]
  },
  {
   "cell_type": "code",
   "execution_count": 43,
   "metadata": {},
   "outputs": [],
   "source": [
    "function AbstractTrees.children(node::Node)\n",
    "    if isdefined(node, :left)\n",
    "        if isdefined(node, :right)\n",
    "            return (node.left, node.right)\n",
    "        end\n",
    "        return (node.left,)\n",
    "    end\n",
    "    isdefined(node, :right) && return (node.right,)\n",
    "    return ()\n",
    "end\n",
    "\n",
    "AbstractTrees.printnode(io::IO, node::Node) = print(io, node.npoints)"
   ]
  },
  {
   "cell_type": "code",
   "execution_count": 44,
   "metadata": {},
   "outputs": [
    {
     "name": "stdout",
     "output_type": "stream",
     "text": [
      "1000000\n",
      "├─ 500000\n",
      "│  ├─ 250000\n",
      "│  │  ├─ 125000\n",
      "│  │  │  ├─ 62500\n",
      "│  │  │  │  ├─ 31250\n",
      "│  │  │  │  │  ⋮\n",
      "│  │  │  │  │  \n",
      "│  │  │  │  └─ 31250\n",
      "│  │  │  │     ⋮\n",
      "│  │  │  │     \n",
      "│  │  │  └─ 62500\n",
      "│  │  │     ├─ 31250\n",
      "│  │  │     │  ⋮\n",
      "│  │  │     │  \n",
      "│  │  │     └─ 31250\n",
      "│  │  │        ⋮\n",
      "│  │  │        \n",
      "│  │  └─ 125000\n",
      "│  │     ├─ 62500\n",
      "│  │     │  ├─ 31250\n",
      "│  │     │  │  ⋮\n",
      "│  │     │  │  \n",
      "│  │     │  └─ 31250\n",
      "│  │     │     ⋮\n",
      "│  │     │     \n",
      "│  │     └─ 62500\n",
      "│  │        ├─ 31250\n",
      "│  │        │  ⋮\n",
      "│  │        │  \n",
      "│  │        └─ 31250\n",
      "│  │           ⋮\n",
      "│  │           \n",
      "│  └─ 250000\n",
      "│     ├─ 125000\n",
      "│     │  ├─ 62500\n",
      "│     │  │  ├─ 31250\n",
      "│     │  │  │  ⋮\n",
      "│     │  │  │  \n",
      "│     │  │  └─ 31250\n",
      "│     │  │     ⋮\n",
      "│     │  │     \n",
      "│     │  └─ 62500\n",
      "│     │     ├─ 31250\n",
      "│     │     │  ⋮\n",
      "│     │     │  \n",
      "│     │     └─ 31250\n",
      "│     │        ⋮\n",
      "│     │        \n",
      "│     └─ 125000\n",
      "│        ├─ 62500\n",
      "│        │  ├─ 31250\n",
      "│        │  │  ⋮\n",
      "│        │  │  \n",
      "│        │  └─ 31250\n",
      "│        │     ⋮\n",
      "│        │     \n",
      "│        └─ 62500\n",
      "│           ├─ 31250\n",
      "│           │  ⋮\n",
      "│           │  \n",
      "│           └─ 31250\n",
      "│              ⋮\n",
      "│              \n",
      "└─ 500000\n",
      "   ├─ 250000\n",
      "   │  ├─ 125000\n",
      "   │  │  ├─ 62500\n",
      "   │  │  │  ├─ 31250\n",
      "   │  │  │  │  ⋮\n",
      "   │  │  │  │  \n",
      "   │  │  │  └─ 31250\n",
      "   │  │  │     ⋮\n",
      "   │  │  │     \n",
      "   │  │  └─ 62500\n",
      "   │  │     ├─ 31250\n",
      "   │  │     │  ⋮\n",
      "   │  │     │  \n",
      "   │  │     └─ 31250\n",
      "   │  │        ⋮\n",
      "   │  │        \n",
      "   │  └─ 125000\n",
      "   │     ├─ 62500\n",
      "   │     │  ├─ 31250\n",
      "   │     │  │  ⋮\n",
      "   │     │  │  \n",
      "   │     │  └─ 31250\n",
      "   │     │     ⋮\n",
      "   │     │     \n",
      "   │     └─ 62500\n",
      "   │        ├─ 31250\n",
      "   │        │  ⋮\n",
      "   │        │  \n",
      "   │        └─ 31250\n",
      "   │           ⋮\n",
      "   │           \n",
      "   └─ 250000\n",
      "      ├─ 125000\n",
      "      │  ├─ 62500\n",
      "      │  │  ├─ 31250\n",
      "      │  │  │  ⋮\n",
      "      │  │  │  \n",
      "      │  │  └─ 31250\n",
      "      │  │     ⋮\n",
      "      │  │     \n",
      "      │  └─ 62500\n",
      "      │     ├─ 31250\n",
      "      │     │  ⋮\n",
      "      │     │  \n",
      "      │     └─ 31250\n",
      "      │        ⋮\n",
      "      │        \n",
      "      └─ 125000\n",
      "         ├─ 62500\n",
      "         │  ├─ 31250\n",
      "         │  │  ⋮\n",
      "         │  │  \n",
      "         │  └─ 31250\n",
      "         │     ⋮\n",
      "         │     \n",
      "         └─ 62500\n",
      "            ├─ 31250\n",
      "            │  ⋮\n",
      "            │  \n",
      "            └─ 31250\n",
      "               ⋮\n",
      "               \n"
     ]
    }
   ],
   "source": [
    "print_tree(root)"
   ]
  },
  {
   "cell_type": "code",
   "execution_count": 60,
   "metadata": {},
   "outputs": [
    {
     "data": {
      "text/plain": [
       "findbin (generic function with 1 method)"
      ]
     },
     "execution_count": 60,
     "metadata": {},
     "output_type": "execute_result"
    }
   ],
   "source": [
    "function findbin(node::Node{T}, x::Array{T, 1}) where T\n",
    "    if isdefined(node, :left) && isdefined(root, :right)\n",
    "        if inleft(node.rule, x)\n",
    "            findbin(node.left, x)\n",
    "        else\n",
    "            findbin(node.right, x)\n",
    "        end\n",
    "    else\n",
    "        return node\n",
    "    end\n",
    "end"
   ]
  },
  {
   "cell_type": "code",
   "execution_count": 61,
   "metadata": {},
   "outputs": [
    {
     "name": "stdout",
     "output_type": "stream",
     "text": [
      "  0.007233 seconds (4.36 k allocations: 244.964 KiB)\n"
     ]
    },
    {
     "data": {
      "text/plain": [
       "Node{Float64}([0.6531569706754898 0.14438346034148197 … 0.8806061005199359 0.7991063483967205; 0.6864117364790194 0.4814068685489876 … 0.2705885405547266 0.3461310700659086; … ; 0.5193534354443301 0.2039213556017614 … 0.348128116243144 0.8161948890528856; 0.8250022699312176 0.357104671392134 … 0.17114950825420516 0.16732525747310967], 10, 7, [934365, 721938, 324534, 536820, 315229, 439089, 609576], #undef, #undef, #undef)"
      ]
     },
     "execution_count": 61,
     "metadata": {},
     "output_type": "execute_result"
    }
   ],
   "source": [
    "@time findbin(root, vec(X[:, 1]))"
   ]
  },
  {
   "cell_type": "code",
   "execution_count": null,
   "metadata": {},
   "outputs": [],
   "source": []
  }
 ],
 "metadata": {
  "kernelspec": {
   "display_name": "Julia 1.5.1",
   "language": "julia",
   "name": "julia-1.5"
  },
  "language_info": {
   "file_extension": ".jl",
   "mimetype": "application/julia",
   "name": "julia",
   "version": "1.5.1"
  }
 },
 "nbformat": 4,
 "nbformat_minor": 4
}
