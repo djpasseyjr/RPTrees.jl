{
 "cells": [
  {
   "cell_type": "code",
   "execution_count": 1,
   "metadata": {},
   "outputs": [],
   "source": [
    "using Random\n",
    "using LinearAlgebra\n",
    "using Statistics: quantile\n",
    "using AbstractTrees"
   ]
  },
  {
   "cell_type": "markdown",
   "metadata": {},
   "source": [
    "# First try to implement RPTrees\n",
    "\n",
    "Algorithm based on a PhD [thesis](https://soar.wichita.edu/bitstream/handle/10057/16380/d19007_Keivani.pdf?isAllowed=y&sequence=1) by Omid Keivani.\n",
    "\n",
    "Here we write pseudocode for **Algorithm 2** (page 8)."
   ]
  },
  {
   "cell_type": "code",
   "execution_count": 72,
   "metadata": {},
   "outputs": [],
   "source": [
    "mutable struct RPNode{T, N}\n",
    "    data::Array{T, N}\n",
    "    numpoints::Int\n",
    "    α_fractile::T\n",
    "    random_projection::Array{T, 1}\n",
    "    leftchild::RPNode{T, N}\n",
    "    rightchild::RPNode{T, N}\n",
    "    # Incomplete constructor\n",
    "    RPNode{T, N}() where {T, N} = new{T, N}()\n",
    "    RPNode(X::Array{T,N}) where {T, N} = new{T, N}(X, size(X)[2])\n",
    "    \n",
    "#     # All fields constructor\n",
    "#     function RPNode{T, N}(d::Array{T, N}, n::Int, α::T, u::Array{T,1}, l::RPNode{T,N}, r::RPNode{T,N}) where {T, N}\n",
    "#         return new{T,N}(d, n, α, u, l, r)\n",
    "#     end\n",
    "end"
   ]
  },
  {
   "cell_type": "code",
   "execution_count": 73,
   "metadata": {},
   "outputs": [
    {
     "data": {
      "text/plain": [
       "makerptree (generic function with 1 method)"
      ]
     },
     "execution_count": 73,
     "metadata": {},
     "output_type": "execute_result"
    }
   ],
   "source": [
    "\"\"\" Recursive function for making Random Projection trees\n",
    "\"\"\" \n",
    "\n",
    "function makerptree(node::RPNode{T, N}, n0::Int) where {T, N}\n",
    "    if node.numpoints <= n0\n",
    "        return node\n",
    "    else\n",
    "        u = rand(size(node.data)[1])\n",
    "        node.random_projection = u / norm(u)\n",
    "        α = 0.5 * rand() + .25\n",
    "        data_proj = transpose(node.data) * node.random_projection\n",
    "        node.α_fractile = quantile(data_proj, α)\n",
    "        mask = data_proj .< node.α_fractile\n",
    "        node.leftchild = makerptree(RPNode(node.data[:, mask]), n0)\n",
    "        node.rightchild = makerptree(RPNode(node.data[:, .~mask]), n0)\n",
    "        return node\n",
    "    end\n",
    "end"
   ]
  },
  {
   "cell_type": "code",
   "execution_count": 74,
   "metadata": {},
   "outputs": [
    {
     "data": {
      "text/plain": [
       "RPNode{Float64,2}([-2.1333141830516813 -0.2630755336295679 … 0.7264670104995037 -1.1804702958649351; 0.9184047407909289 -0.2943171039757304 … 1.316975171933601 -1.0376062553449221; … ; 0.4832684843879911 -0.0967440819339652 … 1.1364390741659327 0.38191336958374894; 0.10261043291696702 -0.31944569385079263 … 1.5168919868483055 1.0980406539624137], 100, 0.0, #undef, #undef, #undef)"
      ]
     },
     "execution_count": 74,
     "metadata": {},
     "output_type": "execute_result"
    }
   ],
   "source": [
    "X = randn(10, 100)\n",
    "root = RPNode(X)"
   ]
  },
  {
   "cell_type": "code",
   "execution_count": 75,
   "metadata": {},
   "outputs": [],
   "source": [
    "makerptree(root, 5);"
   ]
  },
  {
   "cell_type": "markdown",
   "metadata": {},
   "source": [
    "### Use `AbstractTrees.jl` to print the tree"
   ]
  },
  {
   "cell_type": "code",
   "execution_count": 76,
   "metadata": {},
   "outputs": [],
   "source": [
    "function AbstractTrees.children(node::RPNode)\n",
    "    if isdefined(node, :leftchild)\n",
    "        if isdefined(node, :rightchild)\n",
    "            return (node.leftchild, node.rightchild)\n",
    "        end\n",
    "        return (node.leftchild,)\n",
    "    end\n",
    "    isdefined(node, :rightchild) && return (node.rightchild,)\n",
    "    return ()\n",
    "end\n",
    "\n",
    "AbstractTrees.printnode(io::IO, node::RPNode) = print(io, node.numpoints)"
   ]
  },
  {
   "cell_type": "code",
   "execution_count": 77,
   "metadata": {},
   "outputs": [
    {
     "name": "stdout",
     "output_type": "stream",
     "text": [
      "100\n",
      "├─ 41\n",
      "│  ├─ 29\n",
      "│  │  ├─ 21\n",
      "│  │  │  ├─ 8\n",
      "│  │  │  │  ├─ 5\n",
      "│  │  │  │  └─ 3\n",
      "│  │  │  └─ 13\n",
      "│  │  │     ├─ 5\n",
      "│  │  │     └─ 8\n",
      "│  │  │        ⋮\n",
      "│  │  │        \n",
      "│  │  └─ 8\n",
      "│  │     ├─ 5\n",
      "│  │     └─ 3\n",
      "│  └─ 12\n",
      "│     ├─ 5\n",
      "│     └─ 7\n",
      "│        ├─ 3\n",
      "│        └─ 4\n",
      "└─ 59\n",
      "   ├─ 35\n",
      "   │  ├─ 11\n",
      "   │  │  ├─ 5\n",
      "   │  │  └─ 6\n",
      "   │  │     ├─ 2\n",
      "   │  │     └─ 4\n",
      "   │  └─ 24\n",
      "   │     ├─ 11\n",
      "   │     │  ├─ 6\n",
      "   │     │  │  ⋮\n",
      "   │     │  │  \n",
      "   │     │  └─ 5\n",
      "   │     └─ 13\n",
      "   │        ├─ 9\n",
      "   │        │  ⋮\n",
      "   │        │  \n",
      "   │        └─ 4\n",
      "   └─ 24\n",
      "      ├─ 10\n",
      "      │  ├─ 4\n",
      "      │  └─ 6\n",
      "      │     ├─ 4\n",
      "      │     └─ 2\n",
      "      └─ 14\n",
      "         ├─ 4\n",
      "         └─ 10\n",
      "            ├─ 3\n",
      "            └─ 7\n",
      "               ⋮\n",
      "               \n"
     ]
    }
   ],
   "source": [
    "print_tree(root)"
   ]
  },
  {
   "cell_type": "markdown",
   "metadata": {},
   "source": [
    "### Nearest Neighbor Search"
   ]
  },
  {
   "cell_type": "code",
   "execution_count": 78,
   "metadata": {},
   "outputs": [
    {
     "data": {
      "text/plain": [
       "100-element Array{Int64,1}:\n",
       "   1\n",
       "  80\n",
       "  76\n",
       "  48\n",
       "  98\n",
       "  67\n",
       "  56\n",
       "  12\n",
       "  16\n",
       "  60\n",
       " 100\n",
       "  74\n",
       "  41\n",
       "   ⋮\n",
       "  18\n",
       "  49\n",
       "  37\n",
       "  72\n",
       "  34\n",
       "   4\n",
       "  90\n",
       "  14\n",
       "  71\n",
       "  68\n",
       "  53\n",
       "   9"
      ]
     },
     "execution_count": 78,
     "metadata": {},
     "output_type": "execute_result"
    }
   ],
   "source": [
    "x = rand(10)\n",
    "distances(X, x) = sum((X .- x).^2, dims=1)\n",
    "sortidx = sortperm(vec(distances(X, X[:,1])))"
   ]
  },
  {
   "cell_type": "code",
   "execution_count": 79,
   "metadata": {},
   "outputs": [
    {
     "data": {
      "text/plain": [
       "findbin (generic function with 1 method)"
      ]
     },
     "execution_count": 79,
     "metadata": {},
     "output_type": "execute_result"
    }
   ],
   "source": [
    "function findbin(node::RPNode{T,N}, x::Array{T, 1}) where {T, N}\n",
    "    if isdefined(node, :leftchild) && isdefined(root, :rightchild)\n",
    "        if transpose(node.random_projection) * x <= node.α_fractile\n",
    "            findbin(node.leftchild, x)\n",
    "        else\n",
    "            findbin(node.rightchild, x)\n",
    "        end\n",
    "    else\n",
    "        return node\n",
    "    end\n",
    "end\n"
   ]
  },
  {
   "cell_type": "code",
   "execution_count": 80,
   "metadata": {},
   "outputs": [
    {
     "data": {
      "text/plain": [
       "RPNode{Float64,2}([-2.1333141830516813 -1.5383560806453147 … 0.6074044616634419 -1.1804702958649351; 0.9184047407909289 -0.33014306399090776 … -0.3087451272413634 -1.0376062553449221; … ; 0.4832684843879911 0.3782128170456381 … 0.5759480985186449 0.38191336958374894; 0.10261043291696702 1.0393896212077627 … 0.25767795039177815 1.0980406539624137], 5, 0.0, #undef, #undef, #undef)"
      ]
     },
     "execution_count": 80,
     "metadata": {},
     "output_type": "execute_result"
    }
   ],
   "source": [
    "closest = findbin(root, X[:,1])"
   ]
  },
  {
   "cell_type": "code",
   "execution_count": 81,
   "metadata": {},
   "outputs": [
    {
     "data": {
      "text/plain": [
       "1×5 Array{Float64,2}:\n",
       " 0.0  17.8067  7.93143  14.8051  12.1625"
      ]
     },
     "execution_count": 81,
     "metadata": {},
     "output_type": "execute_result"
    }
   ],
   "source": [
    "distances(closest.data, X[:,1])"
   ]
  },
  {
   "cell_type": "code",
   "execution_count": 82,
   "metadata": {},
   "outputs": [
    {
     "data": {
      "text/plain": [
       "100-element Array{Float64,1}:\n",
       "  0.0\n",
       "  7.693277906605389\n",
       "  7.93143206266029\n",
       "  9.64083074797982\n",
       "  9.67817976407559\n",
       " 10.1981769356077\n",
       " 10.902707359396965\n",
       " 11.044106629011242\n",
       " 11.207501560077135\n",
       " 12.152213168910517\n",
       " 12.16252239112806\n",
       " 12.300036117334868\n",
       " 12.317874519454953\n",
       "  ⋮\n",
       " 31.537746365891675\n",
       " 31.734668920879663\n",
       " 32.83419996543021\n",
       " 33.19249788851822\n",
       " 34.00149083489789\n",
       " 34.244048588519874\n",
       " 34.409661423721836\n",
       " 35.54997381857867\n",
       " 37.48068528314821\n",
       " 37.94192410669977\n",
       " 39.19735634476281\n",
       " 39.88050586651641"
      ]
     },
     "execution_count": 82,
     "metadata": {},
     "output_type": "execute_result"
    }
   ],
   "source": [
    "distances(X,X[:,1])[sortidx]"
   ]
  },
  {
   "cell_type": "code",
   "execution_count": 54,
   "metadata": {},
   "outputs": [
    {
     "data": {
      "text/plain": [
       "10-element Array{Float64,1}:\n",
       " -0.2733214321037786\n",
       "  1.8341238500809505\n",
       " -0.4765276405366542\n",
       "  1.324542870346786\n",
       "  0.022628409680721804\n",
       "  0.2833629639205888\n",
       "  0.5451544539664122\n",
       "  0.5584974634583276\n",
       "  1.3305645180166208\n",
       "  0.9537674957578445"
      ]
     },
     "execution_count": 54,
     "metadata": {},
     "output_type": "execute_result"
    }
   ],
   "source": [
    "closest.data[:, end]"
   ]
  },
  {
   "cell_type": "code",
   "execution_count": null,
   "metadata": {},
   "outputs": [],
   "source": []
  }
 ],
 "metadata": {
  "kernelspec": {
   "display_name": "Julia 1.5.1",
   "language": "julia",
   "name": "julia-1.5"
  },
  "language_info": {
   "file_extension": ".jl",
   "mimetype": "application/julia",
   "name": "julia",
   "version": "1.5.1"
  }
 },
 "nbformat": 4,
 "nbformat_minor": 4
}
