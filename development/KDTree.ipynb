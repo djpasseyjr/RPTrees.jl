{
 "cells": [
  {
   "cell_type": "code",
   "execution_count": 15,
   "metadata": {},
   "outputs": [],
   "source": [
    "using NearestNeighbors\n",
    "using NearestNeighbors: NNTree, Metric, TreeData\n",
    "using NearestNeighbors: HyperRectangle, intersects, encloses, interpolate, create_bsphere\n",
    "using StaticArrays: MVector"
   ]
  },
  {
   "cell_type": "markdown",
   "metadata": {},
   "source": [
    "# KDTrees\n",
    "\n",
    "Rewriting the KD Tree implementation from [NearestNeighbors.jl](https://github.com/KristofferC/NearestNeighbors.jl/blob/master/src/ball_tree.jl) to learn the package types."
   ]
  },
  {
   "cell_type": "code",
   "execution_count": 18,
   "metadata": {},
   "outputs": [
    {
     "ename": "LoadError",
     "evalue": "cannot assign a value to variable NearestNeighbors.TreeData from module Main",
     "output_type": "error",
     "traceback": [
      "cannot assign a value to variable NearestNeighbors.TreeData from module Main",
      "",
      "Stacktrace:",
      " [1] top-level scope at In[18]:1",
      " [2] include_string(::Function, ::Module, ::String, ::String) at ./loading.jl:1091"
     ]
    }
   ],
   "source": [
    "struct TreeData\n",
    "    last_node_size::Int\n",
    "    leafsize::Int\n",
    "    n_leafs::Int\n",
    "    n_internal_nodes::Int\n",
    "    cross_node::Int\n",
    "    offset::Int\n",
    "    offset_cross::Int\n",
    "    last_full_node::Int\n",
    "end\n",
    "\n",
    "function TreeData(data::AbstractVector{V}, leafsize) where V\n",
    "    n_dim, n_p = length(V), length(data)\n",
    "    \n",
    "    # If number of points is zero\n",
    "    n_p == 0 && return TreeData(0, 0, 0, 0, 0, 0, 0, 0)\n",
    "    \n",
    "    # using ceiling over allocates n_leafs\n",
    "    n_leafs = ceil(Int, n_p / leafsize) # Will work for RP if we split at median\n",
    "    n_internal_nodes = n_leafs - 1 # Why? (Hmm makes sense 1 + 2 + 4 + ... + 2^n = 2^(n+1) - 1)\n",
    "    leafrow = floor(Int, log2(nleafs)) # n_leafs = 2^k and we want k\n",
    "    cross_node = 2^(leafrow + 1) # Index of the last node?\n",
    "    # Leftover points. Total points mod leafsize\n",
    "    last_node_size = n_p % leafsize\n",
    "    if last_node_size == 0\n",
    "        # If the number of datapoints is exactly divisible by leafsize\n",
    "        # the last node will be full\n",
    "        last_node_size = leafsize \n",
    "    end\n",
    "    \n",
    "    # This only happens when n_p / leafsize is a power of 2?\n",
    "    if cross_node >= n_internal_nodes + n_leafs\n",
    "        cross_node = div(crossnode, 2) # Not sure what this is\n",
    "    end\n",
    "    \n",
    "    offset = 2*(n_leafs - 2^leafrow) - 1\n",
    "    k1 = (offset - n_internal_nodes - 1) * leafsize + last_node_size + 1\n",
    "    k2 = -cross_node * leafzie + 1\n",
    "    last_full_node = n_leafs + n_internal_nodes\n",
    "    return TreeData(last_node_size, leafsize, n_leafs, n_internal_nodes, k1, k2, last_full_node)\n",
    "end\n",
    "    "
   ]
  },
  {
   "cell_type": "code",
   "execution_count": 9,
   "metadata": {},
   "outputs": [],
   "source": [
    "struct KDNode{T}\n",
    "    lo::T\n",
    "    hi::T\n",
    "    split_val::T\n",
    "    split_dim::Int\n",
    "end\n",
    "\n",
    "struct KDTree{V <: AbstractVector, M <: MinkowskiMetric} < NNTree{V, M}\n",
    "    data::Vector{V}\n",
    "    hyper_rec::HyperRectange\n",
    "    indices::Vector{Int}\n",
    "    metric::M\n",
    "    nodes::Vector{KDNode{T}}\n",
    "    tree_data::TreeData\n",
    "    reordered::Bool\n",
    "end\n",
    "\n",
    "\"\"\"\n",
    "    KDTree(data [, metric = Euclidean(); leafsize = 10]) -> kdtree\n",
    "Creates a `KDTree` from the data using the given `metric` and `leafsize`.\n",
    "The `metric` must be a `MinkowskiMetric`.\n",
    "\"\"\"\n",
    "function KDTree(data::AbstractVector{V},\n",
    "                metric::M = Euclidian();\n",
    "                leafsize::Int = 10,\n",
    "                storedata::Bool = true,\n",
    "                reorder::Bool = true,\n",
    "                reorderbuffer::Vector{V} = Vector{V}()) where {V <: AbstractArray, M <: MinkowskiMetric}\n",
    "    # Reorder if the reorder buffer is not empty or if we are storing data and \n",
    "    # reorder is true. If we are not storing data or the reorder arg is false, \n",
    "    # we don't reorder\n",
    "    reorder = !isempty(reorderbuffer) || (storedata ? reorder : false)\n",
    "\n",
    "    tree_data = TreeData(data, leafsize)\n",
    "    n_d = length(V)\n",
    "    n_p = length(data)\n",
    "\n",
    "    indices = collect(1:n_p)\n",
    "    # Allocate space for nodes. Only stores the internal nodes. No leaf nodes are stored\n",
    "    nodes = Vector{KDNode{eltype(V)}}(undef, tree_data.n_internal_nodes)\n",
    "\n",
    "    # Allocate space for reordered data\n",
    "    if reorder\n",
    "        indices_reordered = Vector{Int}(undef, n_p)\n",
    "        if isempty(reorderbuffer)\n",
    "            data_reordered = Vector{V}(undef, n_p)\n",
    "        else\n",
    "            data_reordered = reorderbuffer\n",
    "        end\n",
    "    else\n",
    "        # Dummy variables\n",
    "        indices_reordered = Vector{Int}()\n",
    "        data_reordered = Vector{V}()\n",
    "    end\n",
    "    \n",
    "    # Check metric parameters\n",
    "    if metric isa Distances.UnionMetrics\n",
    "        p = parameters(metric)\n",
    "        if p !== nothing && length(p) != length(V)\n",
    "            throw(ArgumentError(\n",
    "                \"dimension of input points:$(length(V)) and metric parameter:$(length(p)) must agree\"))\n",
    "        end\n",
    "    end\n",
    "    \n",
    "    # Create first bounding hyper rectangle that bounds all the input points\n",
    "    hyper_rec = compute_bbox(data)\n",
    "    \n",
    "    # Call the recursive KDTree builder\n",
    "    build_KDTree(1, data, data_reordered, hyper_rec, nodes, indices, indices_reordered,\n",
    "                 1, length(data), tree_data, reorder)\n",
    "    if reorder\n",
    "        data = data_reordered\n",
    "        indices = indices_reordered\n",
    "    end\n",
    "    \n",
    "    return KDTree(storedata ? data : similar(data, 0), hyper_rec, indices, metric, nodes, tree_data, reorder)\n",
    "end\n",
    "\n",
    "# Constructor to turn data into a static vector, then call the constructor above\n",
    "function KDTree(data::AbstractVecOrMat{T},\n",
    "                 metric::M = Euclidean();\n",
    "                 leafsize::Int = 10,\n",
    "                 storedata::Bool = true,\n",
    "                 reorder::Bool = true,\n",
    "                 reorderbuffer::Matrix{T} = Matrix{T}(undef, 0, 0)) where {T <: AbstractFloat, M <: MinkowskiMetric}\n",
    "    dim = size(data, 1)\n",
    "    npoints = size(data, 2)\n",
    "    # Makse static vector of points\n",
    "    # Val contains constants that will not change at runtime\n",
    "    points = copy_svec(T, data, Val(dim))\n",
    "    if isempty(reorderbuffer)\n",
    "        # Create an empty reorderbuffer that is a static vector\n",
    "        reorderbuffer_points = Vector{SVector{dim,T}}()\n",
    "    else\n",
    "        # Copy reorder buffer into a static vector\n",
    "        reorderbuffer_points = copy_svec(T, reorderbuffer, Val(dim))\n",
    "    end\n",
    "    # Call the other constructor\n",
    "    KDTree(points, metric, leafsize = leafsize, storedata = storedata, reorder = reorder,\n",
    "           reorderbuffer = reorderbuffer_points)\n",
    "end\n",
    "\n",
    "function build_KDTree(index::Int,\n",
    "                      data::AbstractVector{V},\n",
    "                      data_reordered::Vector{V},\n",
    "                      hyper_rec::HyperRectangle,\n",
    "                      nodes::Vector{KDNode{T}},\n",
    "                      indices::Vector{Int},\n",
    "                      indices_reordered::Vector{Int},\n",
    "                      low::Int, # Lowest index\n",
    "                      high::Int, # Highest index\n",
    "                      tree_data::TreeData,\n",
    "                      reorder::Bool) where {V <: AbstractVector, T}\n",
    "    n_p = high - low + 1 # points left\n",
    "    \n",
    "    # Base case: we have a small enough number of points\n",
    "    if n_p <= tree_data.leafsize\n",
    "        if reorder\n",
    "            # Store all the points in a leaf node continuously in memory in data_reordered to improve cache locality.\n",
    "            # Also stores the mapping to get the index into the original data from the reordered data.\n",
    "            reorder_data!(data_reordered, data, index, indices_reordered, tree_data)\n",
    "        end\n",
    "        return\n",
    "    end\n",
    "    \n",
    "    # We split the tree such that one of the sub trees has exactly 2^p points\n",
    "    # and such that the left sub tree always has more points.\n",
    "    # This means that we can deterministally (with just some comparisons)\n",
    "    # find if we are at a leaf node and how many    \n",
    "    mid_idx = find_split(low, tree_data.leafsize, n_p)\n",
    "    \n",
    "    split_dim = 1\n",
    "    max_spread = zero(T)\n",
    "    # find the dimension and spread where spread is maximal\n",
    "    for d in 1:length(V)\n",
    "        spread = hyper_rec.maxes[d] - hyper_rec.mins[d]\n",
    "        if spread > max_spread\n",
    "            max_spread = spread\n",
    "            splitdim = d\n",
    "        end\n",
    "    end\n",
    "    \n",
    "    select_spec!(indices, mid_idx, low, high, data, split_dim)\n",
    "    \n",
    "    # Does this mean the data is sorted?\n",
    "    split_val = data[indices[mid_idx]][split_dim]\n",
    "    \n",
    "    lo = hyper_rec.mins[split_dim]\n",
    "    hi = hyper_rec.maxes[split_dim]\n",
    "    \n",
    "    # Initialize a the next node\n",
    "    nodes[index] = KDNode{T}(lo, hi, split_val, split_dim)\n",
    "    \n",
    "    # Call the left sub tree with an updated hyper rectangle\n",
    "    hyper_rec.maxes[split_dim] = split_val\n",
    "    build_KDTree(getleft(index), data, data_reordered, hyper_rec, nodes, indices, indices_reordered, mid_idx - 1, treedata, reorder)\n",
    "    hyper_rec.maxes[split_dim] = hi # Restore the hyper rectangle\n",
    "\n",
    "    # Call the right sub tree with an updated hyper rectangle\n",
    "    hyper_rec.mins[split_dim] = split_val\n",
    "    build_KDTree(getright(index), data, data_reordered, hyper_rec, nodes,\n",
    "                  indices, indices_reordered, mid_idx, high, tree_data, reorder)\n",
    "    # Restore the hyper rectangle\n",
    "    hyper_rec.mins[split_dim] = lo\n",
    "end\n",
    "\n",
    "@inline getleft(i::Int) = 2i\n",
    "@inline getright(i::Int) = 2i + 1\n",
    "    \n",
    "    \n",
    "    \n",
    "    "
   ]
  },
  {
   "cell_type": "code",
   "execution_count": 17,
   "metadata": {},
   "outputs": [
    {
     "data": {
      "text/plain": [
       "UndefInitializer(): array initializer with undefined values"
      ]
     },
     "execution_count": 17,
     "metadata": {},
     "output_type": "execute_result"
    }
   ],
   "source": [
    "undef"
   ]
  },
  {
   "cell_type": "code",
   "execution_count": 19,
   "metadata": {},
   "outputs": [
    {
     "data": {
      "text/plain": [
       "true"
      ]
     },
     "execution_count": 19,
     "metadata": {},
     "output_type": "execute_result"
    }
   ],
   "source": [
    "Val()"
   ]
  },
  {
   "cell_type": "code",
   "execution_count": 47,
   "metadata": {},
   "outputs": [
    {
     "data": {
      "text/plain": [
       "13"
      ]
     },
     "execution_count": 47,
     "metadata": {},
     "output_type": "execute_result"
    }
   ],
   "source": [
    "#We will need n_leafs leaf nodes to store all the rest of the data\n",
    "n_p = 65\n",
    "leafsize = 5\n",
    "n_leafs = ceil(Int, n_p/leafsize)\n"
   ]
  },
  {
   "cell_type": "code",
   "execution_count": 48,
   "metadata": {},
   "outputs": [
    {
     "data": {
      "text/plain": [
       "3"
      ]
     },
     "execution_count": 48,
     "metadata": {},
     "output_type": "execute_result"
    }
   ],
   "source": [
    "k = floor(Int, log2(n_leafs)) "
   ]
  },
  {
   "cell_type": "code",
   "execution_count": 49,
   "metadata": {},
   "outputs": [
    {
     "data": {
      "text/plain": [
       "5"
      ]
     },
     "execution_count": 49,
     "metadata": {},
     "output_type": "execute_result"
    }
   ],
   "source": [
    "rest = n_leafs - 2^k #Empty nodes in the row"
   ]
  },
  {
   "cell_type": "markdown",
   "metadata": {},
   "source": [
    "`select(v, k[, ord])`\n",
    "Find the element in position k in the sorted vector v without sorting, according to ordering ord (default: Sort.Forward).\n",
    "\n",
    "`select!(v, k[, ord])`\n",
    "Version of select which permutes the input vector in place."
   ]
  },
  {
   "cell_type": "code",
   "execution_count": null,
   "metadata": {},
   "outputs": [],
   "source": []
  }
 ],
 "metadata": {
  "kernelspec": {
   "display_name": "Julia 1.5.1",
   "language": "julia",
   "name": "julia-1.5"
  },
  "language_info": {
   "file_extension": ".jl",
   "mimetype": "application/julia",
   "name": "julia",
   "version": "1.5.1"
  }
 },
 "nbformat": 4,
 "nbformat_minor": 4
}
