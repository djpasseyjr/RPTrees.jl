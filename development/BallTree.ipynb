{
 "cells": [
  {
   "cell_type": "code",
   "execution_count": 13,
   "metadata": {},
   "outputs": [],
   "source": [
    "using NearestNeighbors\n",
    "using NearestNeighbors: NNTree, Metric, TreeData\n",
    "using NearestNeighbors: HyperSphere, intersects, encloses, interpolate, create_bsphere\n",
    "using StaticArrays: MVector"
   ]
  },
  {
   "cell_type": "markdown",
   "metadata": {},
   "source": [
    "# BallTrees\n",
    "\n",
    "Rewriting the Ball Tree implementation from [NearestNeighbors.jl](https://github.com/KristofferC/NearestNeighbors.jl/blob/master/src/ball_tree.jl) to learn the package types."
   ]
  },
  {
   "cell_type": "code",
   "execution_count": 9,
   "metadata": {},
   "outputs": [],
   "source": [
    "struct BallTree{V <: AbstractVector, N, T, M <: Metric} <: NNTree{V, M}\n",
    "    data::Vector{V}\n",
    "    hyper_spheres::Vector{HyperSphere{N,T}} # Each hypersphere bounds its children\n",
    "    indices::Vector{Int}\n",
    "    metric::M\n",
    "    tree_data::TreeData\n",
    "    reordered::Bool\n",
    "end"
   ]
  },
  {
   "cell_type": "code",
   "execution_count": 14,
   "metadata": {},
   "outputs": [
    {
     "data": {
      "text/plain": [
       "ArrayBuffers"
      ]
     },
     "execution_count": 14,
     "metadata": {},
     "output_type": "execute_result"
    }
   ],
   "source": [
    "# When we create the bounding spheres we need some temporary arrays.\n",
    "# We create a type to hold them to not allocate these arrays at every\n",
    "# function call and to reduce the number of parameters in the tree builder.\n",
    "\n",
    "struct ArrayBuffers{N, T <: AbstractFloat}\n",
    "    center::MVector{N,T}\n",
    "end\n",
    "    \n",
    "function ArrayBuffers(::Type{Val{N}}, ::Type{T}) where {N, T}\n",
    "    ArrayBuffers(zeros(MVector{N,T}))\n",
    "end"
   ]
  },
  {
   "cell_type": "code",
   "execution_count": null,
   "metadata": {},
   "outputs": [],
   "source": []
  }
 ],
 "metadata": {
  "kernelspec": {
   "display_name": "Julia 1.5.1",
   "language": "julia",
   "name": "julia-1.5"
  },
  "language_info": {
   "file_extension": ".jl",
   "mimetype": "application/julia",
   "name": "julia",
   "version": "1.5.1"
  }
 },
 "nbformat": 4,
 "nbformat_minor": 4
}
